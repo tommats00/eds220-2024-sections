{
 "cells": [
  {
   "cell_type": "markdown",
   "id": "3bbf9ac8-1aed-438d-8116-1b378f59ed59",
   "metadata": {},
   "source": [
    "# Archive exploration\n",
    "\n",
    "- What is this data about?\n",
    "- During what time frame were the observations in the dataset collected?\n",
    "- Does the dataset contain sensitive data?\n",
    "- Is there a publication associated with this dataset?"
   ]
  },
  {
   "cell_type": "markdown",
   "id": "411656aa-d4ce-4181-b321-b8ecf5100b3b",
   "metadata": {},
   "source": [
    "**Brief description**: This data is about the species snowshoe hares, *Lepus americanus*. They are a keystone prey species in northern boreal forests and have population fluctuations of 8-11 years. \n",
    "\n",
    "**Citation**: Kielland, K., F.S. Chapin, R.W. Ruess, and Bonanza Creek LTER. 2017. Snowshoe hare physical data in Bonanza Creek Experimental Forest: 1999-Present ver 22. Environmental Data Initiative. https://doi.org/10.6073/pasta/03dce4856d79b91557d8e6ce2cbcdc14 (Accessed 2024-10-17). \n",
    "\n",
    "**Date of access**: 10/17/2024\n",
    "\n",
    "**link**: https://portal.edirepository.org/nis/mapbrowse?packageid=knb-lter-bnz.55.22"
   ]
  },
  {
   "cell_type": "markdown",
   "id": "fdb9e2fb-520b-4614-b36a-b0e7485d954a",
   "metadata": {},
   "source": [
    "# 2. Adding an image\n",
    "\n",
    "![Snowshoe hare, *Lepus americanus*](https://upload.wikimedia.org/wikipedia/commons/8/8a/SNOWSHOE_HARE_%28Lepus_americanus%29_%285-28-2015%29_quoddy_head%2C_washington_co%2C_maine_-01_%2818988734889%29.jpg)\n",
    "\n"
   ]
  },
  {
   "cell_type": "code",
   "execution_count": null,
   "id": "07368a1a-abb3-43e5-b4dd-de98272105b8",
   "metadata": {},
   "outputs": [],
   "source": []
  },
  {
   "cell_type": "markdown",
   "id": "9aa01863-fd79-4402-bf30-bfbec48c231e",
   "metadata": {},
   "source": [
    "# Data loading and preliminary exploration\n",
    "\n"
   ]
  },
  {
   "cell_type": "code",
   "execution_count": 5,
   "id": "3eaad48b-de65-46de-a8a5-7edd8439434f",
   "metadata": {
    "tags": []
   },
   "outputs": [],
   "source": [
    "# Load pandas library\n",
    "\n",
    "import pandas as pd\n",
    "\n",
    "URL = 'https://portal.edirepository.org/nis/dataviewer?packageid=knb-lter-bnz.55.22&entityid=f01f5d71be949b8c700b6ecd1c42c701'\n",
    "\n",
    "hares = pd.read_csv(URL)"
   ]
  },
  {
   "cell_type": "code",
   "execution_count": 7,
   "id": "5a05ffcc-a2be-403b-a5d2-04d16bf739c4",
   "metadata": {
    "tags": []
   },
   "outputs": [
    {
     "data": {
      "text/plain": [
       "(3380, 14)"
      ]
     },
     "execution_count": 7,
     "metadata": {},
     "output_type": "execute_result"
    }
   ],
   "source": [
    "hares.shape"
   ]
  },
  {
   "cell_type": "code",
   "execution_count": 8,
   "id": "81855cb1-da76-42a0-9e37-14dfba3d9cdd",
   "metadata": {
    "tags": []
   },
   "outputs": [
    {
     "data": {
      "text/plain": [
       "Index(['date', 'time', 'grid', 'trap', 'l_ear', 'r_ear', 'sex', 'age',\n",
       "       'weight', 'hindft', 'notes', 'b_key', 'session_id', 'study'],\n",
       "      dtype='object')"
      ]
     },
     "execution_count": 8,
     "metadata": {},
     "output_type": "execute_result"
    }
   ],
   "source": [
    "hares.columns"
   ]
  },
  {
   "cell_type": "code",
   "execution_count": 10,
   "id": "73840980-caa9-4a8b-8a82-a4e8922c1dbc",
   "metadata": {
    "tags": []
   },
   "outputs": [
    {
     "data": {
      "text/plain": [
       "date             0\n",
       "time          3116\n",
       "grid             0\n",
       "trap            12\n",
       "l_ear           48\n",
       "r_ear          169\n",
       "sex            352\n",
       "age           2111\n",
       "weight         535\n",
       "hindft        1747\n",
       "notes         3137\n",
       "b_key           47\n",
       "session_id       0\n",
       "study          163\n",
       "dtype: int64"
      ]
     },
     "execution_count": 10,
     "metadata": {},
     "output_type": "execute_result"
    }
   ],
   "source": [
    "hares.isnull().sum()"
   ]
  },
  {
   "cell_type": "code",
   "execution_count": 12,
   "id": "6ba81756-af8c-4e3a-840a-e4aff8e7add9",
   "metadata": {
    "tags": []
   },
   "outputs": [
    {
     "name": "stdout",
     "output_type": "stream",
     "text": [
      "2365.0\n",
      "0.0\n"
     ]
    }
   ],
   "source": [
    "print(hares['weight'].max())\n",
    "\n",
    "print(hares['weight'].min())"
   ]
  },
  {
   "cell_type": "code",
   "execution_count": 13,
   "id": "1111af0a-24b2-4445-bbf1-2b26981d5a38",
   "metadata": {
    "tags": []
   },
   "outputs": [
    {
     "name": "stdout",
     "output_type": "stream",
     "text": [
      "160.0\n",
      "60.0\n"
     ]
    }
   ],
   "source": [
    "print(hares['hindft'].max())\n",
    "\n",
    "print(hares['hindft'].min())"
   ]
  },
  {
   "cell_type": "code",
   "execution_count": 16,
   "id": "7884322f-a4ae-468e-a3a4-b247bb8c9130",
   "metadata": {
    "tags": []
   },
   "outputs": [
    {
     "name": "stdout",
     "output_type": "stream",
     "text": [
      "['1A' '2C' '2D' '2E' '3B' '3D' '4A' '4B' '4C' '4E' '5A' '5C' '5D' '5E'\n",
      " '10C' '1C' '1E' '2A' '2B' '3C' '3E' '5B' '6A' '6B' '6C' '7B' '7C' '7E'\n",
      " '8A' '8B' '8E' '9A' '9D' '1D' '6E' '7D' '8C' '8D' '9B' '3A' '10B' '1B'\n",
      " '7A' '9E' '4D' '10A' '6D' '9C' '10D' '10E' '10b' '2a' '2b' '2d' '3b' '4a'\n",
      " '4c' '4e' '5b' '6c' '7a' '7b' '7d' '7e' '8e' '9a' '1b' '2c' '2e' '3c'\n",
      " '1e' '3e' '5d' '3d' '4d' '7c' '8c' '10c' '1c' '1d' '9d' '5e' '6a' '8a'\n",
      " '8b' '6b' '10e' '6e' nan '4b' '5c' '9c' '10a' '5a' '9b' '9e' '6d' '1a'\n",
      " '3a' '10d' '8d' '4f' '5f' '3f' '2f' '2g' '5g' '4g' '1g' '7f' '6f' '6g'\n",
      " '3g' '4c ' '4e ' '1e ' '1b ' '2b ' '6b ' '2c ' '5c ' '4b ']\n",
      "['Population' 'Collar' nan 'Metabolic' 'Metabolic/Collar']\n"
     ]
    }
   ],
   "source": [
    "print(hares['trap'].unique())\n",
    "\n",
    "print(hares['study'].unique())"
   ]
  }
 ],
 "metadata": {
  "kernelspec": {
   "display_name": "Anaconda 3 (Base)",
   "language": "python",
   "name": "base"
  },
  "language_info": {
   "codemirror_mode": {
    "name": "ipython",
    "version": 3
   },
   "file_extension": ".py",
   "mimetype": "text/x-python",
   "name": "python",
   "nbconvert_exporter": "python",
   "pygments_lexer": "ipython3",
   "version": "3.9.13"
  }
 },
 "nbformat": 4,
 "nbformat_minor": 5
}
