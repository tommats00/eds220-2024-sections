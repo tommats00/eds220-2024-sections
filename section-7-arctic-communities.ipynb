{
 "cells": [
  {
   "cell_type": "markdown",
   "id": "699d3ad2-e7d7-40b6-adcb-8aa497bff039",
   "metadata": {},
   "source": [
    "### Load libraries"
   ]
  },
  {
   "cell_type": "code",
   "execution_count": 1,
   "id": "19c6fcc0-7eb5-44a8-9232-d964ce126e5d",
   "metadata": {
    "tags": []
   },
   "outputs": [],
   "source": [
    "import os\n",
    "import pandas as pd\n",
    "import matplotlib.pyplot as plt\n",
    "import geopandas as gpd"
   ]
  },
  {
   "cell_type": "markdown",
   "id": "2c291c1d-105b-415e-af5b-49ef6024c27a",
   "metadata": {},
   "source": [
    "### Load data"
   ]
  },
  {
   "cell_type": "code",
   "execution_count": 2,
   "id": "f96d329f-d406-403d-acbf-d7b129a1bd3f",
   "metadata": {
    "tags": []
   },
   "outputs": [
    {
     "name": "stderr",
     "output_type": "stream",
     "text": [
      "ERROR 1: PROJ: proj_create_from_database: Open of /opt/anaconda3/envs/eds220-env/share/proj failed\n"
     ]
    }
   ],
   "source": [
    "data_folder_fp = os.path.join('/',\n",
    "                              'courses',\n",
    "                              'EDS220', \n",
    "                              'data',\n",
    "                             'arctic_communities.geojson')\n",
    "\n",
    "df = gpd.read_file(data_folder_fp)"
   ]
  },
  {
   "cell_type": "code",
   "execution_count": 3,
   "id": "3874e03a-f769-4d94-90dd-5864b6f7971f",
   "metadata": {
    "tags": []
   },
   "outputs": [
    {
     "data": {
      "text/html": [
       "<div>\n",
       "<style scoped>\n",
       "    .dataframe tbody tr th:only-of-type {\n",
       "        vertical-align: middle;\n",
       "    }\n",
       "\n",
       "    .dataframe tbody tr th {\n",
       "        vertical-align: top;\n",
       "    }\n",
       "\n",
       "    .dataframe thead th {\n",
       "        text-align: right;\n",
       "    }\n",
       "</style>\n",
       "<table border=\"1\" class=\"dataframe\">\n",
       "  <thead>\n",
       "    <tr style=\"text-align: right;\">\n",
       "      <th></th>\n",
       "      <th>admin</th>\n",
       "      <th>country</th>\n",
       "      <th>n_communities</th>\n",
       "      <th>geometry</th>\n",
       "    </tr>\n",
       "  </thead>\n",
       "  <tbody>\n",
       "    <tr>\n",
       "      <th>0</th>\n",
       "      <td>United States of America</td>\n",
       "      <td>US</td>\n",
       "      <td>115</td>\n",
       "      <td>MULTIPOLYGON (((-132.74687 56.52568, -132.7576...</td>\n",
       "    </tr>\n",
       "    <tr>\n",
       "      <th>1</th>\n",
       "      <td>United Kingdom</td>\n",
       "      <td>GB</td>\n",
       "      <td>96</td>\n",
       "      <td>MULTIPOLYGON (((-2.66768 51.62300, -2.74214 51...</td>\n",
       "    </tr>\n",
       "    <tr>\n",
       "      <th>2</th>\n",
       "      <td>Sweden</td>\n",
       "      <td>SE</td>\n",
       "      <td>133</td>\n",
       "      <td>MULTIPOLYGON (((19.07646 57.83594, 18.99375 57...</td>\n",
       "    </tr>\n",
       "    <tr>\n",
       "      <th>3</th>\n",
       "      <td>Russia</td>\n",
       "      <td>RU</td>\n",
       "      <td>774</td>\n",
       "      <td>MULTIPOLYGON (((145.88154 43.45952, 145.89561 ...</td>\n",
       "    </tr>\n",
       "    <tr>\n",
       "      <th>4</th>\n",
       "      <td>Norway</td>\n",
       "      <td>NO</td>\n",
       "      <td>48</td>\n",
       "      <td>MULTIPOLYGON (((20.62217 69.03687, 20.49199 69...</td>\n",
       "    </tr>\n",
       "  </tbody>\n",
       "</table>\n",
       "</div>"
      ],
      "text/plain": [
       "                      admin country  n_communities  \\\n",
       "0  United States of America      US            115   \n",
       "1            United Kingdom      GB             96   \n",
       "2                    Sweden      SE            133   \n",
       "3                    Russia      RU            774   \n",
       "4                    Norway      NO             48   \n",
       "\n",
       "                                            geometry  \n",
       "0  MULTIPOLYGON (((-132.74687 56.52568, -132.7576...  \n",
       "1  MULTIPOLYGON (((-2.66768 51.62300, -2.74214 51...  \n",
       "2  MULTIPOLYGON (((19.07646 57.83594, 18.99375 57...  \n",
       "3  MULTIPOLYGON (((145.88154 43.45952, 145.89561 ...  \n",
       "4  MULTIPOLYGON (((20.62217 69.03687, 20.49199 69...  "
      ]
     },
     "execution_count": 3,
     "metadata": {},
     "output_type": "execute_result"
    }
   ],
   "source": [
    "df.head()"
   ]
  },
  {
   "cell_type": "markdown",
   "id": "373223cc-8ba4-4dc5-9095-9991e054e4b8",
   "metadata": {},
   "source": [
    "### 2. Check geometry types"
   ]
  },
  {
   "cell_type": "code",
   "execution_count": 4,
   "id": "bdaf6014-4f2e-47ba-922f-d54a114465c2",
   "metadata": {
    "tags": []
   },
   "outputs": [
    {
     "data": {
      "text/plain": [
       "0     MultiPolygon\n",
       "1     MultiPolygon\n",
       "2     MultiPolygon\n",
       "3     MultiPolygon\n",
       "4     MultiPolygon\n",
       "5     MultiPolygon\n",
       "6          Polygon\n",
       "7          Polygon\n",
       "8     MultiPolygon\n",
       "9     MultiPolygon\n",
       "10    MultiPolygon\n",
       "11    MultiPolygon\n",
       "12    MultiPolygon\n",
       "13    MultiPolygon\n",
       "14         Polygon\n",
       "dtype: object"
      ]
     },
     "execution_count": 4,
     "metadata": {},
     "output_type": "execute_result"
    }
   ],
   "source": [
    "# a. Run df.geom_type. Write a brief explanation in markdown cell\n",
    "df.geom_type"
   ]
  },
  {
   "cell_type": "markdown",
   "id": "ecd0e16f-6e60-4a4a-8690-ee2be9a42771",
   "metadata": {},
   "source": [
    "It returns the geometry type of each row. Multipolygon and Polygon are the geometry types that are returned. "
   ]
  },
  {
   "cell_type": "code",
   "execution_count": 5,
   "id": "97df62ac-2c59-4ef4-b678-ca68c49a1e8f",
   "metadata": {
    "tags": []
   },
   "outputs": [
    {
     "name": "stdout",
     "output_type": "stream",
     "text": [
      "Multiple feature types\n",
      "['MultiPolygon' 'Polygon']\n"
     ]
    }
   ],
   "source": [
    "# b. Create an if-else statement that:\n",
    "    # prints \"All features are polygons\" fi all the features in the df are polygons\n",
    "    # prints \"Multiple feature types:\" followed by the unique geometry types (no repetition) in the geodataframe if not all the features are polygons.\n",
    "    \n",
    "if (df.geom_type.all == 'Polygon'):\n",
    "    print('All features are polygons')\n",
    "else:\n",
    "    print('Multiple feature types')\n",
    "    print(df.geom_type.unique())"
   ]
  },
  {
   "cell_type": "code",
   "execution_count": 6,
   "id": "324b8893-b44b-4130-972d-008ac791042f",
   "metadata": {
    "tags": []
   },
   "outputs": [
    {
     "name": "stdout",
     "output_type": "stream",
     "text": [
      "Multiple feature types\n",
      "['MultiPolygon' 'Polygon']\n"
     ]
    }
   ],
   "source": [
    "# c. Wrap code into function 'check_polygons' that receives a single geodataframe\n",
    "\n",
    "def check_polygons(df): \n",
    "    if (df.geom_type.all == 'Polygon'):\n",
    "        print('All features are polygons')\n",
    "    else:\n",
    "        print('Multiple feature types')\n",
    "        print(df.geom_type.unique())\n",
    "    \n",
    "check_polygons(df)"
   ]
  },
  {
   "cell_type": "markdown",
   "id": "5677c5de-6ac4-4ac5-9daf-23861a2d5ce5",
   "metadata": {},
   "source": [
    "## Explode polygons"
   ]
  },
  {
   "cell_type": "code",
   "execution_count": 7,
   "id": "c34fb613-a07c-4900-b66a-d8ffcda2af55",
   "metadata": {
    "tags": []
   },
   "outputs": [],
   "source": [
    "# a.\n",
    "df = df.explode(index_parts = False).reset_index()"
   ]
  },
  {
   "cell_type": "code",
   "execution_count": 8,
   "id": "0bc233e1-f718-4218-a4f9-09194819e593",
   "metadata": {
    "tags": []
   },
   "outputs": [
    {
     "name": "stdout",
     "output_type": "stream",
     "text": [
      "Multiple feature types\n",
      "['Polygon']\n"
     ]
    }
   ],
   "source": [
    "check_polygons(df)"
   ]
  },
  {
   "cell_type": "code",
   "execution_count": 9,
   "id": "e0e95aa5-b98d-4fa0-9b4a-6778aba49c90",
   "metadata": {
    "tags": []
   },
   "outputs": [
    {
     "data": {
      "text/plain": [
       "geopandas.geoseries.GeoSeries"
      ]
     },
     "execution_count": 9,
     "metadata": {},
     "output_type": "execute_result"
    }
   ],
   "source": [
    "# Select the first row of df using iloc, What kind of python object is this?\n",
    "df.iloc[[0]]['geometry']\n",
    "type(df.iloc[[0]]['geometry'])"
   ]
  },
  {
   "cell_type": "code",
   "execution_count": 10,
   "id": "f4dc20aa-aafa-40d6-9fde-cfd12227287a",
   "metadata": {
    "tags": []
   },
   "outputs": [
    {
     "data": {
      "text/plain": [
       "0    56.511035\n",
       "Name: miny, dtype: float64"
      ]
     },
     "execution_count": 10,
     "metadata": {},
     "output_type": "execute_result"
    }
   ],
   "source": [
    "df.iloc[[0]]['geometry'].bounds['miny']"
   ]
  },
  {
   "cell_type": "code",
   "execution_count": 11,
   "id": "e5f265cc-e2c5-40b3-933b-af6af83cbe83",
   "metadata": {
    "tags": []
   },
   "outputs": [],
   "source": [
    "def min_y(geodf_row):\n",
    "    return geodf_row.geometry.bounds[1]"
   ]
  },
  {
   "cell_type": "code",
   "execution_count": 12,
   "id": "944a241b-cf51-4b69-bd83-fa468464102e",
   "metadata": {
    "tags": []
   },
   "outputs": [
    {
     "data": {
      "text/html": [
       "<div>\n",
       "<style scoped>\n",
       "    .dataframe tbody tr th:only-of-type {\n",
       "        vertical-align: middle;\n",
       "    }\n",
       "\n",
       "    .dataframe tbody tr th {\n",
       "        vertical-align: top;\n",
       "    }\n",
       "\n",
       "    .dataframe thead th {\n",
       "        text-align: right;\n",
       "    }\n",
       "</style>\n",
       "<table border=\"1\" class=\"dataframe\">\n",
       "  <thead>\n",
       "    <tr style=\"text-align: right;\">\n",
       "      <th></th>\n",
       "      <th>index</th>\n",
       "      <th>admin</th>\n",
       "      <th>country</th>\n",
       "      <th>n_communities</th>\n",
       "      <th>geometry</th>\n",
       "      <th>miny</th>\n",
       "    </tr>\n",
       "  </thead>\n",
       "  <tbody>\n",
       "    <tr>\n",
       "      <th>0</th>\n",
       "      <td>0</td>\n",
       "      <td>United States of America</td>\n",
       "      <td>US</td>\n",
       "      <td>115</td>\n",
       "      <td>POLYGON ((-132.74687 56.52568, -132.75762 56.5...</td>\n",
       "      <td>56.511035</td>\n",
       "    </tr>\n",
       "    <tr>\n",
       "      <th>1</th>\n",
       "      <td>0</td>\n",
       "      <td>United States of America</td>\n",
       "      <td>US</td>\n",
       "      <td>115</td>\n",
       "      <td>POLYGON ((-132.77988 56.24727, -132.83096 56.2...</td>\n",
       "      <td>56.244141</td>\n",
       "    </tr>\n",
       "    <tr>\n",
       "      <th>2</th>\n",
       "      <td>0</td>\n",
       "      <td>United States of America</td>\n",
       "      <td>US</td>\n",
       "      <td>115</td>\n",
       "      <td>POLYGON ((-134.31274 58.22891, -134.31987 58.2...</td>\n",
       "      <td>58.204102</td>\n",
       "    </tr>\n",
       "    <tr>\n",
       "      <th>3</th>\n",
       "      <td>0</td>\n",
       "      <td>United States of America</td>\n",
       "      <td>US</td>\n",
       "      <td>115</td>\n",
       "      <td>POLYGON ((-145.11851 60.33711, -145.15049 60.3...</td>\n",
       "      <td>60.312646</td>\n",
       "    </tr>\n",
       "    <tr>\n",
       "      <th>4</th>\n",
       "      <td>0</td>\n",
       "      <td>United States of America</td>\n",
       "      <td>US</td>\n",
       "      <td>115</td>\n",
       "      <td>POLYGON ((-144.56563 59.81841, -144.61357 59.8...</td>\n",
       "      <td>59.812646</td>\n",
       "    </tr>\n",
       "    <tr>\n",
       "      <th>...</th>\n",
       "      <td>...</td>\n",
       "      <td>...</td>\n",
       "      <td>...</td>\n",
       "      <td>...</td>\n",
       "      <td>...</td>\n",
       "      <td>...</td>\n",
       "    </tr>\n",
       "    <tr>\n",
       "      <th>476</th>\n",
       "      <td>13</td>\n",
       "      <td>Canada</td>\n",
       "      <td>CA</td>\n",
       "      <td>7</td>\n",
       "      <td>POLYGON ((-109.16641 67.98237, -109.05391 67.9...</td>\n",
       "      <td>67.878809</td>\n",
       "    </tr>\n",
       "    <tr>\n",
       "      <th>477</th>\n",
       "      <td>13</td>\n",
       "      <td>Canada</td>\n",
       "      <td>CA</td>\n",
       "      <td>7</td>\n",
       "      <td>POLYGON ((-108.09272 67.00518, -107.96646 66.9...</td>\n",
       "      <td>66.857812</td>\n",
       "    </tr>\n",
       "    <tr>\n",
       "      <th>478</th>\n",
       "      <td>13</td>\n",
       "      <td>Canada</td>\n",
       "      <td>CA</td>\n",
       "      <td>7</td>\n",
       "      <td>POLYGON ((-109.32314 67.99087, -109.36084 67.9...</td>\n",
       "      <td>67.987598</td>\n",
       "    </tr>\n",
       "    <tr>\n",
       "      <th>479</th>\n",
       "      <td>13</td>\n",
       "      <td>Canada</td>\n",
       "      <td>CA</td>\n",
       "      <td>7</td>\n",
       "      <td>POLYGON ((-139.04312 69.57690, -139.12573 69.5...</td>\n",
       "      <td>69.539307</td>\n",
       "    </tr>\n",
       "    <tr>\n",
       "      <th>480</th>\n",
       "      <td>14</td>\n",
       "      <td>Belarus</td>\n",
       "      <td>BY</td>\n",
       "      <td>8</td>\n",
       "      <td>POLYGON ((31.76338 52.10107, 31.57373 52.10811...</td>\n",
       "      <td>51.265039</td>\n",
       "    </tr>\n",
       "  </tbody>\n",
       "</table>\n",
       "<p>481 rows × 6 columns</p>\n",
       "</div>"
      ],
      "text/plain": [
       "     index                     admin country  n_communities  \\\n",
       "0        0  United States of America      US            115   \n",
       "1        0  United States of America      US            115   \n",
       "2        0  United States of America      US            115   \n",
       "3        0  United States of America      US            115   \n",
       "4        0  United States of America      US            115   \n",
       "..     ...                       ...     ...            ...   \n",
       "476     13                    Canada      CA              7   \n",
       "477     13                    Canada      CA              7   \n",
       "478     13                    Canada      CA              7   \n",
       "479     13                    Canada      CA              7   \n",
       "480     14                   Belarus      BY              8   \n",
       "\n",
       "                                              geometry       miny  \n",
       "0    POLYGON ((-132.74687 56.52568, -132.75762 56.5...  56.511035  \n",
       "1    POLYGON ((-132.77988 56.24727, -132.83096 56.2...  56.244141  \n",
       "2    POLYGON ((-134.31274 58.22891, -134.31987 58.2...  58.204102  \n",
       "3    POLYGON ((-145.11851 60.33711, -145.15049 60.3...  60.312646  \n",
       "4    POLYGON ((-144.56563 59.81841, -144.61357 59.8...  59.812646  \n",
       "..                                                 ...        ...  \n",
       "476  POLYGON ((-109.16641 67.98237, -109.05391 67.9...  67.878809  \n",
       "477  POLYGON ((-108.09272 67.00518, -107.96646 66.9...  66.857812  \n",
       "478  POLYGON ((-109.32314 67.99087, -109.36084 67.9...  67.987598  \n",
       "479  POLYGON ((-139.04312 69.57690, -139.12573 69.5...  69.539307  \n",
       "480  POLYGON ((31.76338 52.10107, 31.57373 52.10811...  51.265039  \n",
       "\n",
       "[481 rows x 6 columns]"
      ]
     },
     "execution_count": 12,
     "metadata": {},
     "output_type": "execute_result"
    }
   ],
   "source": [
    "df['miny'] = df.apply(min_y, axis = 1)\n",
    "\n",
    "df"
   ]
  },
  {
   "cell_type": "code",
   "execution_count": 13,
   "id": "0497cbf1-344f-485b-9a25-66a103b05d76",
   "metadata": {
    "tags": []
   },
   "outputs": [
    {
     "data": {
      "text/plain": [
       "<Axes: >"
      ]
     },
     "execution_count": 13,
     "metadata": {},
     "output_type": "execute_result"
    },
    {
     "data": {
      "image/png": "[encoded data removed]",
      "text/plain": [
       "<Figure size 640x480 with 1 Axes>"
      ]
     },
     "metadata": {},
     "output_type": "display_data"
    }
   ],
   "source": [
    "df[df['miny'] >=40]\n",
    "\n",
    "#update crs\n",
    "\n",
    "df = df[df['miny'] >= 40].to_crs('EPSG:3413')\n",
    "df.plot()"
   ]
  },
  {
   "cell_type": "code",
   "execution_count": null,
   "id": "74679565-26d9-4943-965e-d66a9358ce96",
   "metadata": {},
   "outputs": [],
   "source": []
  }
 ],
 "metadata": {
  "kernelspec": {
   "display_name": "Anaconda 3 (EDS220)",
   "language": "python",
   "name": "eds220-env"
  },
  "language_info": {
   "codemirror_mode": {
    "name": "ipython",
    "version": 3
   },
   "file_extension": ".py",
   "mimetype": "text/x-python",
   "name": "python",
   "nbconvert_exporter": "python",
   "pygments_lexer": "ipython3",
   "version": "3.11.4"
  }
 },
 "nbformat": 4,
 "nbformat_minor": 5
}
